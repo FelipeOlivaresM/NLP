{
 "cells": [
  {
   "cell_type": "code",
   "execution_count": 1,
   "metadata": {},
   "outputs": [],
   "source": [
    "import re"
   ]
  },
  {
   "cell_type": "code",
   "execution_count": 15,
   "metadata": {},
   "outputs": [],
   "source": [
    "def count_words(text):\n",
    "    \"\"\"Cuenta cuantas veces una palabra occure en el texto\"\"\"\n",
    "    counts = dict()  # diccionario de pares { <word>: <count> }\n",
    "\n",
    "    # Conversion a minuscula\n",
    "    text2 = text.lower()\n",
    "\n",
    "\n",
    "    # Split text by sentence delimiters (remove delimiters)\n",
    "    sentenses = re.split(r\"[\\n|\\r]\", text2)\n",
    "    print(sentenses)\n",
    "    print(\"\\n\")\n",
    "    print(\"# of lines:{}\".format(len(sentenses)))\n",
    "    print(\"\\n\")\n",
    "    \n",
    "    #Remove leading and trailing spaces from each sentence\n",
    "    results = []\n",
    "    for sen in sentenses:\n",
    "        s = sen.strip()\n",
    "        if len(s):\n",
    "            results.append(s)\n",
    "    \n",
    "    \n",
    "    print(\"\\n--- Sentences ---\")\n",
    "    print(results)\n",
    "\n",
    "    # Dividir el texto en tokens (palabras), quitando la puntuacion.\n",
    "    # Usar expresiones regulares para dividr segun caracteres no-alfanumericos '\\w'   \n",
    "    \n",
    "    \n",
    "    matchObjs = re.findall(r'[\\w]+', text2)\n",
    "    print(matchObjs)\n",
    "    # Conteo usando el diccionario.\n",
    "    for obj in matchObjs:\n",
    "        if obj in counts:\n",
    "            counts[obj] += 1  # Adiciona 1 a una entrada existente\n",
    "        else:\n",
    "            counts[obj] = 1  # Crea un nuevo indice/palabra en el diccionario.\n",
    "\n",
    "    return counts"
   ]
  },
  {
   "cell_type": "code",
   "execution_count": 16,
   "metadata": {},
   "outputs": [
    {
     "name": "stdout",
     "output_type": "stream",
     "text": [
      "['amazon.com, inc., is an american multinational technology company based in seattle, washington that focuses on e-commerce, cloud computing, digital streaming, and artificial intelligence. it is considered one of the big four technology companies along with google, apple, and facebook.[7][8][9]', '', \"amazon is known for its disruption of well-established industries through technological innovation and mass scale.[10][11][12] it is the world's largest e-commerce marketplace, ai assistant provider, and cloud computing platform[13] as measured by revenue and market capitalization.[14] amazon is the largest internet company by revenue in the world.[15] it is the second largest private employer in the united states[16] and one of the world's most valuable companies. amazon is the second largest technology company by revenue.\", '', \"amazon was founded by jeff bezos on july 5, 1994, in bellevue, washington. the company initially started as an online marketplace for books but later expanded to sell electronics, software, video games, apparel, furniture, food, toys, and jewelry. in 2015, amazon surpassed walmart as the most valuable retailer in the united states by market capitalization.[17] in 2017, amazon acquired whole foods market for $13.4 billion, which vastly increased amazon's presence as a brick-and-mortar retailer.[18] in 2018, bezos announced that its two-day delivery service, amazon prime, had surpassed 100 million subscribers worldwide.[19][20]\", '', 'amazon distributes downloads and streaming of video, music, audiobook through its amazon prime video, amazon music, and audible subsidiaries. amazon also has a publishing arm, amazon publishing, a film and television studio, amazon studios, and a cloud computing subsidiary, amazon web services. it produces consumer electronics including kindle e-readers, fire tablets, fire tv, and echo devices. in addition, amazon subsidiaries also include ring, twitch.tv, whole foods market, and imdb. among various controversies, the company has been criticized for technological surveillance overreach,[21] a hyper-competitive and demanding work culture,[22] tax avoidance,[23] and anti-competitive practices.[24]']\n",
      "\n",
      "\n",
      "# of lines:7\n",
      "\n",
      "\n",
      "\n",
      "--- Sentences ---\n",
      "['amazon.com, inc., is an american multinational technology company based in seattle, washington that focuses on e-commerce, cloud computing, digital streaming, and artificial intelligence. it is considered one of the big four technology companies along with google, apple, and facebook.[7][8][9]', \"amazon is known for its disruption of well-established industries through technological innovation and mass scale.[10][11][12] it is the world's largest e-commerce marketplace, ai assistant provider, and cloud computing platform[13] as measured by revenue and market capitalization.[14] amazon is the largest internet company by revenue in the world.[15] it is the second largest private employer in the united states[16] and one of the world's most valuable companies. amazon is the second largest technology company by revenue.\", \"amazon was founded by jeff bezos on july 5, 1994, in bellevue, washington. the company initially started as an online marketplace for books but later expanded to sell electronics, software, video games, apparel, furniture, food, toys, and jewelry. in 2015, amazon surpassed walmart as the most valuable retailer in the united states by market capitalization.[17] in 2017, amazon acquired whole foods market for $13.4 billion, which vastly increased amazon's presence as a brick-and-mortar retailer.[18] in 2018, bezos announced that its two-day delivery service, amazon prime, had surpassed 100 million subscribers worldwide.[19][20]\", 'amazon distributes downloads and streaming of video, music, audiobook through its amazon prime video, amazon music, and audible subsidiaries. amazon also has a publishing arm, amazon publishing, a film and television studio, amazon studios, and a cloud computing subsidiary, amazon web services. it produces consumer electronics including kindle e-readers, fire tablets, fire tv, and echo devices. in addition, amazon subsidiaries also include ring, twitch.tv, whole foods market, and imdb. among various controversies, the company has been criticized for technological surveillance overreach,[21] a hyper-competitive and demanding work culture,[22] tax avoidance,[23] and anti-competitive practices.[24]']\n",
      "['amazon', 'com', 'inc', 'is', 'an', 'american', 'multinational', 'technology', 'company', 'based', 'in', 'seattle', 'washington', 'that', 'focuses', 'on', 'e', 'commerce', 'cloud', 'computing', 'digital', 'streaming', 'and', 'artificial', 'intelligence', 'it', 'is', 'considered', 'one', 'of', 'the', 'big', 'four', 'technology', 'companies', 'along', 'with', 'google', 'apple', 'and', 'facebook', '7', '8', '9', 'amazon', 'is', 'known', 'for', 'its', 'disruption', 'of', 'well', 'established', 'industries', 'through', 'technological', 'innovation', 'and', 'mass', 'scale', '10', '11', '12', 'it', 'is', 'the', 'world', 's', 'largest', 'e', 'commerce', 'marketplace', 'ai', 'assistant', 'provider', 'and', 'cloud', 'computing', 'platform', '13', 'as', 'measured', 'by', 'revenue', 'and', 'market', 'capitalization', '14', 'amazon', 'is', 'the', 'largest', 'internet', 'company', 'by', 'revenue', 'in', 'the', 'world', '15', 'it', 'is', 'the', 'second', 'largest', 'private', 'employer', 'in', 'the', 'united', 'states', '16', 'and', 'one', 'of', 'the', 'world', 's', 'most', 'valuable', 'companies', 'amazon', 'is', 'the', 'second', 'largest', 'technology', 'company', 'by', 'revenue', 'amazon', 'was', 'founded', 'by', 'jeff', 'bezos', 'on', 'july', '5', '1994', 'in', 'bellevue', 'washington', 'the', 'company', 'initially', 'started', 'as', 'an', 'online', 'marketplace', 'for', 'books', 'but', 'later', 'expanded', 'to', 'sell', 'electronics', 'software', 'video', 'games', 'apparel', 'furniture', 'food', 'toys', 'and', 'jewelry', 'in', '2015', 'amazon', 'surpassed', 'walmart', 'as', 'the', 'most', 'valuable', 'retailer', 'in', 'the', 'united', 'states', 'by', 'market', 'capitalization', '17', 'in', '2017', 'amazon', 'acquired', 'whole', 'foods', 'market', 'for', '13', '4', 'billion', 'which', 'vastly', 'increased', 'amazon', 's', 'presence', 'as', 'a', 'brick', 'and', 'mortar', 'retailer', '18', 'in', '2018', 'bezos', 'announced', 'that', 'its', 'two', 'day', 'delivery', 'service', 'amazon', 'prime', 'had', 'surpassed', '100', 'million', 'subscribers', 'worldwide', '19', '20', 'amazon', 'distributes', 'downloads', 'and', 'streaming', 'of', 'video', 'music', 'audiobook', 'through', 'its', 'amazon', 'prime', 'video', 'amazon', 'music', 'and', 'audible', 'subsidiaries', 'amazon', 'also', 'has', 'a', 'publishing', 'arm', 'amazon', 'publishing', 'a', 'film', 'and', 'television', 'studio', 'amazon', 'studios', 'and', 'a', 'cloud', 'computing', 'subsidiary', 'amazon', 'web', 'services', 'it', 'produces', 'consumer', 'electronics', 'including', 'kindle', 'e', 'readers', 'fire', 'tablets', 'fire', 'tv', 'and', 'echo', 'devices', 'in', 'addition', 'amazon', 'subsidiaries', 'also', 'include', 'ring', 'twitch', 'tv', 'whole', 'foods', 'market', 'and', 'imdb', 'among', 'various', 'controversies', 'the', 'company', 'has', 'been', 'criticized', 'for', 'technological', 'surveillance', 'overreach', '21', 'a', 'hyper', 'competitive', 'and', 'demanding', 'work', 'culture', '22', 'tax', 'avoidance', '23', 'and', 'anti', 'competitive', 'practices', '24']\n",
      "\n",
      "\n",
      "{'amazon': 17, 'com': 1, 'inc': 1, 'is': 7, 'an': 2, 'american': 1, 'multinational': 1, 'technology': 3, 'company': 5, 'based': 1, 'in': 9, 'seattle': 1, 'washington': 2, 'that': 2, 'focuses': 1, 'on': 2, 'e': 3, 'commerce': 2, 'cloud': 3, 'computing': 3, 'digital': 1, 'streaming': 2, 'and': 16, 'artificial': 1, 'intelligence': 1, 'it': 4, 'considered': 1, 'one': 2, 'of': 4, 'the': 12, 'big': 1, 'four': 1, 'companies': 2, 'along': 1, 'with': 1, 'google': 1, 'apple': 1, 'facebook': 1, '7': 1, '8': 1, '9': 1, 'known': 1, 'for': 4, 'its': 3, 'disruption': 1, 'well': 1, 'established': 1, 'industries': 1, 'through': 2, 'technological': 2, 'innovation': 1, 'mass': 1, 'scale': 1, '10': 1, '11': 1, '12': 1, 'world': 3, 's': 3, 'largest': 4, 'marketplace': 2, 'ai': 1, 'assistant': 1, 'provider': 1, 'platform': 1, '13': 2, 'as': 4, 'measured': 1, 'by': 5, 'revenue': 3, 'market': 4, 'capitalization': 2, '14': 1, 'internet': 1, '15': 1, 'second': 2, 'private': 1, 'employer': 1, 'united': 2, 'states': 2, '16': 1, 'most': 2, 'valuable': 2, 'was': 1, 'founded': 1, 'jeff': 1, 'bezos': 2, 'july': 1, '5': 1, '1994': 1, 'bellevue': 1, 'initially': 1, 'started': 1, 'online': 1, 'books': 1, 'but': 1, 'later': 1, 'expanded': 1, 'to': 1, 'sell': 1, 'electronics': 2, 'software': 1, 'video': 3, 'games': 1, 'apparel': 1, 'furniture': 1, 'food': 1, 'toys': 1, 'jewelry': 1, '2015': 1, 'surpassed': 2, 'walmart': 1, 'retailer': 2, '17': 1, '2017': 1, 'acquired': 1, 'whole': 2, 'foods': 2, '4': 1, 'billion': 1, 'which': 1, 'vastly': 1, 'increased': 1, 'presence': 1, 'a': 5, 'brick': 1, 'mortar': 1, '18': 1, '2018': 1, 'announced': 1, 'two': 1, 'day': 1, 'delivery': 1, 'service': 1, 'prime': 2, 'had': 1, '100': 1, 'million': 1, 'subscribers': 1, 'worldwide': 1, '19': 1, '20': 1, 'distributes': 1, 'downloads': 1, 'music': 2, 'audiobook': 1, 'audible': 1, 'subsidiaries': 2, 'also': 2, 'has': 2, 'publishing': 2, 'arm': 1, 'film': 1, 'television': 1, 'studio': 1, 'studios': 1, 'subsidiary': 1, 'web': 1, 'services': 1, 'produces': 1, 'consumer': 1, 'including': 1, 'kindle': 1, 'readers': 1, 'fire': 2, 'tablets': 1, 'tv': 2, 'echo': 1, 'devices': 1, 'addition': 1, 'include': 1, 'ring': 1, 'twitch': 1, 'imdb': 1, 'among': 1, 'various': 1, 'controversies': 1, 'been': 1, 'criticized': 1, 'surveillance': 1, 'overreach': 1, '21': 1, 'hyper': 1, 'competitive': 2, 'demanding': 1, 'work': 1, 'culture': 1, '22': 1, 'tax': 1, 'avoidance': 1, '23': 1, 'anti': 1, 'practices': 1, '24': 1}\n"
     ]
    }
   ],
   "source": [
    "def test_run():\n",
    "    with open(\"input.txt\", \"r\") as f:\n",
    "        text = f.read()\n",
    "        counts = count_words(text)\n",
    "        print(\"\\n\")\n",
    "        print(counts)\n",
    "        \n",
    "if __name__ == \"__main__\":\n",
    "    test_run()\n"
   ]
  },
  {
   "cell_type": "code",
   "execution_count": null,
   "metadata": {},
   "outputs": [],
   "source": []
  },
  {
   "cell_type": "code",
   "execution_count": null,
   "metadata": {},
   "outputs": [],
   "source": []
  }
 ],
 "metadata": {
  "kernelspec": {
   "display_name": "Python 3",
   "language": "python",
   "name": "python3"
  },
  "language_info": {
   "codemirror_mode": {
    "name": "ipython",
    "version": 3
   },
   "file_extension": ".py",
   "mimetype": "text/x-python",
   "name": "python",
   "nbconvert_exporter": "python",
   "pygments_lexer": "ipython3",
   "version": "3.7.4"
  }
 },
 "nbformat": 4,
 "nbformat_minor": 2
}
