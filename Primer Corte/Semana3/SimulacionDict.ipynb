{
 "cells": [
  {
   "cell_type": "code",
   "execution_count": 125,
   "metadata": {},
   "outputs": [],
   "source": [
    "from lxml import etree\n",
    "import re\n",
    "from operator import itemgetter\n"
   ]
  },
  {
   "cell_type": "code",
   "execution_count": 126,
   "metadata": {},
   "outputs": [],
   "source": [
    "from gensim.parsing.porter import PorterStemmer\n",
    "from gensim.parsing.preprocessing import remove_stopwords\n",
    "from gensim import corpora\n",
    "from gensim import models\n",
    "from gensim import similarities\n",
    "from smart_open import smart_open"
   ]
  },
  {
   "cell_type": "code",
   "execution_count": 127,
   "metadata": {},
   "outputs": [],
   "source": [
    "def extracttext(text):\n",
    "    \n",
    "    sentenses = re.split(r\"[\\n|\\r]\", text)\n",
    "    # Remove leading and trailing spaces from each sentence\n",
    "    results = []\n",
    "    for sen in sentenses:\n",
    "        s = sen.strip()\n",
    "        if len(s):\n",
    "            results.append(s)\n",
    "            num_libros=len(results)\n",
    "    #print(\"\\n\")\n",
    "    return results[1]\n"
   ]
  },
  {
   "cell_type": "code",
   "execution_count": 128,
   "metadata": {},
   "outputs": [],
   "source": [
    "def querysearch():\n",
    "    \n",
    "    queryid = []\n",
    "    querytext = []\n",
    "    a = 1\n",
    "    queryall = [queryid ,querytext]\n",
    "    while a!=47:\n",
    "        if a < 10:\n",
    "            b = \"0\"+str(a)\n",
    "            if a == 4:\n",
    "                a+=1\n",
    "        elif a < 50:\n",
    "                b = str(a)\n",
    "                if a == 10 or a == 14 or a == 32 or a == 34 or a ==38 or a == 42:\n",
    "                    a+=1\n",
    "                elif a == 19 or a == 29:\n",
    "                    a+=2\n",
    "\n",
    "        docquer = etree.parse(\"./queries-raw-texts/wes2015.q\"+b+\".naf\")\n",
    "        raizquer=docquer.getroot()\n",
    "        idquer = raizquer[0][1].get('publicId')\n",
    "        textquery = raizquer[1].text\n",
    "        queryid.append(idquer)\n",
    "        querytext.append(textquery)\n",
    "        a+=1\n",
    "    #print(queryid)\n",
    "    #print(querytext)    \n",
    "    return queryall\n",
    "    #print(\"\\n\")"
   ]
  },
  {
   "cell_type": "code",
   "execution_count": 129,
   "metadata": {},
   "outputs": [],
   "source": [
    "#Gensim trae sus propias funciones para el procesamiento de texto\n",
    "p = PorterStemmer()"
   ]
  },
  {
   "cell_type": "markdown",
   "metadata": {},
   "source": [
    "<h2>Corpus Streaming</h2>\n",
    "Normalmente los corpus reciden completamente en la memoria. Supongamos que hay millones de documentos en el corpus. Almacenarlos todos en RAM no será suficiente. En su lugar, supongamos que los documentos se almacenan en un archivo en el disco, un documento por línea. Gensim puede procesar un documento a la vez y actualizar dinamicamente e calculo de IDF y del vocabulario."
   ]
  },
  {
   "cell_type": "code",
   "execution_count": 130,
   "metadata": {},
   "outputs": [],
   "source": [
    "#Procesamiento de un texto utilizando las funciones de Gensim\n",
    "def process(text):\n",
    "    doc_nor = text.lower()\n",
    "    #doc_reg = re.sub(r'[^\\w|^\\d]', ' ', doc_nor)\n",
    "    #doc_reg = re.sub(r'[^a-zA-Z]', ' ', doc_nor)\n",
    "    doc_sw = remove_stopwords(doc_nor)\n",
    "    doc_stem = PorterStemmer().stem_sentence(doc_sw)\n",
    "    return doc_stem.split()"
   ]
  },
  {
   "cell_type": "code",
   "execution_count": 131,
   "metadata": {},
   "outputs": [],
   "source": [
    "#Creaccion de lista con documentos procesados\n",
    "docDict = []\n",
    "docTitle = []\n",
    "docID = []\n",
    "a = 1\n",
    "\n",
    "while a!=332:\n",
    "    if a < 10:\n",
    "        b = \"00\"+str(a)\n",
    "    elif a < 100:\n",
    "            b = \"0\"+str(a)\n",
    "    else:\n",
    "            b = str(a)\n",
    "    doc = etree.parse(\"./docs-raw-texts/wes2015.d\"+b+\".naf\")\n",
    "    raiz=doc.getroot()\n",
    "    titulo = raiz[0][0].get('title')\n",
    "    docTitle.append(titulo)\n",
    "    iddoc = raiz[0][1].get('publicId')\n",
    "    docID.append(iddoc)\n",
    "    #print(iddoc)\n",
    "    #print(titulo)\n",
    "    text = raiz[1].text\n",
    "    a+=1\n",
    "    line = extracttext(text)\n",
    "    #print(\"\\n\")\n",
    "    docDict.append(process(line))\n",
    "\n",
    "#print(docID[2])\n",
    "#print(docTitle[2])\n",
    "#print(docDict[2]) #Documentos ya procesados, de esta forma deben ser enviados al metodo de Gensim\n",
    "\n"
   ]
  },
  {
   "cell_type": "code",
   "execution_count": 132,
   "metadata": {},
   "outputs": [],
   "source": [
    "#Ahora si llamamos al metodo de Gensim para crear el diccionario a partir de los documentos\n",
    "dictionary = corpora.Dictionary(docDict)\n",
    "dictionary.save('clase3.dict')\n",
    "#print(dictionary)\n",
    "\n",
    "#Notese que Gensim de una vez asigna a cada token un id\n",
    "#print(dictionary.token2id)"
   ]
  },
  {
   "cell_type": "code",
   "execution_count": 133,
   "metadata": {},
   "outputs": [
    {
     "name": "stdout",
     "output_type": "stream",
     "text": [
      "[(70, 1), (4236, 1), (7809, 2)]\n"
     ]
    }
   ],
   "source": [
    "new_doc = \"Human media interaction media\"\n",
    "new_doc_bow = dictionary.doc2bow(process(new_doc))\n",
    "print(new_doc_bow)  # ¿Si hay cuatro palabras pq solo dos tokens?"
   ]
  },
  {
   "cell_type": "code",
   "execution_count": 164,
   "metadata": {},
   "outputs": [],
   "source": [
    "#Construccion del corpus == Cada documento representado con el vocabulario/diccionario definido anteriormente (Bolsa de palabras)\n",
    "class MyCorpus(object):\n",
    "    def __iter__(self):\n",
    "        a = 1\n",
    "\n",
    "        while a!=332:\n",
    "            if a < 10:\n",
    "                b = \"00\"+str(a)\n",
    "            elif a < 100:\n",
    "                    b = \"0\"+str(a)\n",
    "            else:\n",
    "                b = str(a)\n",
    "            doc = etree.parse(\"./docs-raw-texts/wes2015.d\"+b+\".naf\")\n",
    "            raiz=doc.getroot()\n",
    "            titulo = raiz[0][0].get('title')\n",
    "            iddoc = raiz[0][1].get('publicId')\n",
    "            #print(iddoc)\n",
    "            #print(titulo)\n",
    "            text = raiz[1].text\n",
    "            a+=1\n",
    "            line = extracttext(text)\n",
    "            yield dictionary.doc2bow(process(line))\n",
    "\n",
    "corpus_memory_friendly = MyCorpus()#Todos mis documentos ahora estan representados como una bolsa de palabras\n",
    "#Almaceno mi corpus\n",
    "corpora.MmCorpus.serialize('corpus.mm', corpus_memory_friendly)  "
   ]
  },
  {
   "cell_type": "code",
   "execution_count": 165,
   "metadata": {},
   "outputs": [],
   "source": [
    "#Cargo mi corpus\n",
    "corpus = corpora.MmCorpus('corpus.mm')\n",
    "#print(corpus) #No lo carga en memoria\n",
    "#Para leer la representacion de bolda de palabras resultante de cada documento en el corpus\n",
    "#for doc in corpus:\n",
    "#    print(doc)"
   ]
  },
  {
   "cell_type": "markdown",
   "metadata": {},
   "source": [
    "<h2>Vector Space Model - TF-IDF</h2>"
   ]
  },
  {
   "cell_type": "code",
   "execution_count": 166,
   "metadata": {},
   "outputs": [],
   "source": [
    "#Suponga que tenemos el diccionario y corpus en disco\n",
    "#Primero necesitamos cargarlos\n",
    "dictionary = corpora.Dictionary.load('clase3.dict')\n",
    "corpus = corpora.MmCorpus('corpus.mm')"
   ]
  },
  {
   "cell_type": "code",
   "execution_count": 167,
   "metadata": {},
   "outputs": [],
   "source": [
    "#Construyendo un modelo VSM con ponderacion por TF-IDF\n",
    "tfidf = models.TfidfModel(corpus) #Inizializacion"
   ]
  },
  {
   "cell_type": "code",
   "execution_count": 168,
   "metadata": {},
   "outputs": [
    {
     "name": "stdout",
     "output_type": "stream",
     "text": [
      "[(16449, 1)]\n",
      "[(16449, 1.0)]\n"
     ]
    }
   ],
   "source": [
    "#Supongamos que queremos calcular la similitud de un nuevo documento con los documentos en el corpus\n",
    "#1. Construimos la representación vectorial del query\n",
    "query_doc = \"Amazon vs Microsoft\"\n",
    "query_doc_bow = dictionary.doc2bow(process(query_doc))\n",
    "print(query_doc_bow)\n",
    "print(tfidf[query_doc_bow])"
   ]
  },
  {
   "cell_type": "code",
   "execution_count": 169,
   "metadata": {},
   "outputs": [],
   "source": [
    "#2. Ahora construimos la matrix t/d con los documentos contra los cuales queremos compara el query\n",
    "index = similarities.MatrixSimilarity(tfidf[corpus]) \n",
    "# Vamos a salvar el inidice resultante para no tener que recalcularlo cada vez que los necesitemos.\n",
    "index.save('clase3tfidf.index')"
   ]
  },
  {
   "cell_type": "code",
   "execution_count": 170,
   "metadata": {},
   "outputs": [],
   "source": [
    "#Una vez guardado lo podemos cargar sin necesidad de recalcularlo\n",
    "index = similarities.MatrixSimilarity.load('clase3tfidf.index')"
   ]
  },
  {
   "cell_type": "code",
   "execution_count": 171,
   "metadata": {},
   "outputs": [],
   "source": [
    "# Ejecutar las similitudes entre el documento query y el corpus ahora es muy facil!!!\n",
    "\n",
    "queryreturn = querysearch()\n",
    "queryid = queryreturn[0]\n",
    "querydoc = queryreturn[1]\n",
    "archivo = open ('top-10.txt','w')\n",
    "id=0\n",
    "for query in querydoc:\n",
    "    \n",
    "    query_doc_bow = dictionary.doc2bow(process(query))\n",
    "    sims = index[tfidf[query_doc_bow]]\n",
    "    #print(type(sims))\n",
    "    listofdoctf= list(enumerate(sims))\n",
    "    #print(listofdoctf)\n",
    "    #print(\"\\n\")\n",
    "    sorted_by_second = sorted(listofdoctf,key=itemgetter(1), reverse = True)\n",
    "    #print(sorted_by_second)\n",
    "    varTen = \"10 most similarity documents:\\n\"\n",
    "    #archivo.write(varTen)\n",
    "    archivo.write(queryid[id]+\"\\t\")\n",
    "    for doc, similitudQ in sorted_by_second[:20]:  \n",
    "        \n",
    "        archivo.write( docID[doc]+\",\")\n",
    "        #print(\"{}\\t{}\".format(docID[doc], similitudQ))\n",
    "    #print(\"\\n\")    \n",
    "    archivo.write(\"\\n\")\n",
    "    id+=1\n",
    "archivo.close()\n",
    "    \n",
    "\n",
    "#print(list(enumerate(sims)))  print (document_number, document_similarity) 2-tuples#"
   ]
  },
  {
   "cell_type": "code",
   "execution_count": 185,
   "metadata": {},
   "outputs": [],
   "source": [
    "\n",
    "def relevancejud(docDic):\n",
    "    dicFinal = []\n",
    "    \n",
    "    \n",
    "    #print(len(docDic))\n",
    "    \n",
    "    for index in range(len(docDic)):\n",
    "        dataquery = docDic[index][1]\n",
    "        #print(dataqueryid)\n",
    "        #print(\"\\n\")\n",
    "        #print(dataquery)\n",
    "        #print(\"\\n\")\n",
    "        normalice = re.sub(r':\\d', '', dataquery)\n",
    "        normalice = re.split(\",\",normalice)\n",
    "        #print(normalice)        \n",
    "        dicFinal.append(normalice)\n",
    "\n",
    "        #print(dicFinal)\n",
    "        #print(dicFinal2)\n",
    "    return dicFinal\n"
   ]
  },
  {
   "cell_type": "code",
   "execution_count": 186,
   "metadata": {},
   "outputs": [],
   "source": [
    "\n",
    "def docssimulationDict(docDic):\n",
    "    dicFinal2 = []\n",
    "    \n",
    "    #print(len(docDic))\n",
    "    \n",
    "    for index in range(len(docDic)):\n",
    "        dataquery = docDic[index][1]\n",
    "        #print(dataqueryid)\n",
    "        #print(\"\\n\")\n",
    "        #print(dataquery)\n",
    "        #print(\"\\n\")\n",
    "        normalice = re.sub(r':\\d', '', dataquery)\n",
    "        normalice = re.split(\",\",normalice)\n",
    "        #print(normalice)\n",
    "        dicFinal2.append(normalice)\n",
    "\n",
    "        #print(dicFinal3)\n",
    "        #print(dicFinal4)\n",
    "    return dicFinal2\n"
   ]
  },
  {
   "cell_type": "code",
   "execution_count": 187,
   "metadata": {},
   "outputs": [],
   "source": [
    "docsrelevantes=[]\n",
    "\n",
    "def precisionandrecall(relevancequery,docsimquery):\n",
    "    \n",
    "    for rel in relevancequery:\n",
    "        for rel1 int range(len(rel)):\n",
    "            if rel[rel1] in docsimquery:\n",
    "                print(\"hola\")\n",
    "    \n",
    "    \n",
    "    return docsrelevantes\n",
    "    "
   ]
  },
  {
   "cell_type": "code",
   "execution_count": 199,
   "metadata": {},
   "outputs": [
    {
     "name": "stdout",
     "output_type": "stream",
     "text": [
      "['d016', 'd259', 'd209', 'd254', 'd085', 'd186', 'd170', 'd008', 'd315', 'd004', 'd154', 'd163', 'd060', 'd089', 'd296', 'd100', 'd094', 'd145', 'd059', 'd179', '']\n",
      "\n",
      "\n",
      "d254\n",
      "7\n"
     ]
    }
   ],
   "source": [
    "docDict1 = []\n",
    "for line in smart_open('top-10.txt', 'rb'):\n",
    "    docDict1.append(process(line))  \n",
    "\n",
    "docDict2 = []\n",
    "for line in smart_open('relevance-judgments.tsv', 'rb'):\n",
    "    docDict2.append(process(line))  \n",
    "#print(docDict2)\n",
    "dicdocsim = docssimulationDict(docDict1)\n",
    "dicjud = relevancejud(docDict2)\n",
    "\n",
    "\n",
    "#docsrell = precisionandrecall(dicjud2,dicdocsim2,3)\n",
    "print(dicdocsim[0])\n",
    "print(\"\\n\")\n",
    "print(dicjud[0][1])\n",
    "print(len(dicjud[3]))\n",
    "\n",
    "#print(\"\\n\")"
   ]
  },
  {
   "cell_type": "code",
   "execution_count": null,
   "metadata": {},
   "outputs": [],
   "source": []
  },
  {
   "cell_type": "code",
   "execution_count": null,
   "metadata": {},
   "outputs": [],
   "source": []
  }
 ],
 "metadata": {
  "kernelspec": {
   "display_name": "Python 3",
   "language": "python",
   "name": "python3"
  },
  "language_info": {
   "codemirror_mode": {
    "name": "ipython",
    "version": 3
   },
   "file_extension": ".py",
   "mimetype": "text/x-python",
   "name": "python",
   "nbconvert_exporter": "python",
   "pygments_lexer": "ipython3",
   "version": "3.6.9"
  }
 },
 "nbformat": 4,
 "nbformat_minor": 4
}
