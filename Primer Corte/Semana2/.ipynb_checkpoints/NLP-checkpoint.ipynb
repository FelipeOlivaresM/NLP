{
 "cells": [
  {
   "cell_type": "code",
   "execution_count": 1,
   "metadata": {},
   "outputs": [],
   "source": [
    "import re"
   ]
  },
  {
   "cell_type": "code",
   "execution_count": 11,
   "metadata": {},
   "outputs": [],
   "source": [
    "def count_words(text):\n",
    "    \"\"\"Cuenta cuantas veces una palabra occure en el texto\"\"\"\n",
    "    counts = dict()  # diccionario de pares { <word>: <count> }\n",
    "\n",
    "    # Conversion a minuscula\n",
    "    text2 = text.lower()\n",
    "\n",
    "\n",
    "    # Split text by sentence delimiters (remove delimiters)\n",
    "    sentenses = re.split(r\"[\\n|\\r]\", text2)\n",
    "    print(sentenses)\n",
    "    print(\"\\n\")\n",
    "    print(\"# of lines:{}\".format(len(sentenses)))\n",
    "    print(\"\\n\")\n",
    "    \n",
    "    #Remove leading and trailing spaces from each sentence\n",
    "    results = []\n",
    "    for sen in sentenses:\n",
    "        s = sen.strip()\n",
    "        if len(s):\n",
    "            results.append(s)\n",
    "    return results\n",
    "\n",
    "    # Dividir el texto en tokens (palabras), quitando la puntuacion.\n",
    "    # Usar expresiones regulares para dividr segun caracteres no-alfanumericos '\\w'   \n",
    "    \n",
    "    \n",
    "    matchObjs = re.findall(r'[\\w]+', text2)\n",
    "    print(matchObjs)\n",
    "    # Conteo usando el diccionario.\n",
    "    for obj in matchObjs:\n",
    "        if obj in counts:\n",
    "            counts[obj] += 1  # Adiciona 1 a una entrada existente\n",
    "        else:\n",
    "            counts[obj] = 1  # Crea un nuevo indice/palabra en el diccionario.\n",
    "\n",
    "    return counts"
   ]
  },
  {
   "cell_type": "code",
   "execution_count": 12,
   "metadata": {},
   "outputs": [
    {
     "name": "stdout",
     "output_type": "stream",
     "text": [
      "['amazon.com, inc., is an american multinational technology company based in seattle, washington that focuses on e-commerce, cloud computing, digital streaming, and artificial intelligence. it is considered one of the big four technology companies along with google, apple, and facebook.[7][8][9]', '', \"amazon is known for its disruption of well-established industries through technological innovation and mass scale.[10][11][12] it is the world's largest e-commerce marketplace, ai assistant provider, and cloud computing platform[13] as measured by revenue and market capitalization.[14] amazon is the largest internet company by revenue in the world.[15] it is the second largest private employer in the united states[16] and one of the world's most valuable companies. amazon is the second largest technology company by revenue.\", '', \"amazon was founded by jeff bezos on july 5, 1994, in bellevue, washington. the company initially started as an online marketplace for books but later expanded to sell electronics, software, video games, apparel, furniture, food, toys, and jewelry. in 2015, amazon surpassed walmart as the most valuable retailer in the united states by market capitalization.[17] in 2017, amazon acquired whole foods market for $13.4 billion, which vastly increased amazon's presence as a brick-and-mortar retailer.[18] in 2018, bezos announced that its two-day delivery service, amazon prime, had surpassed 100 million subscribers worldwide.[19][20]\", '', 'amazon distributes downloads and streaming of video, music, audiobook through its amazon prime video, amazon music, and audible subsidiaries. amazon also has a publishing arm, amazon publishing, a film and television studio, amazon studios, and a cloud computing subsidiary, amazon web services. it produces consumer electronics including kindle e-readers, fire tablets, fire tv, and echo devices. in addition, amazon subsidiaries also include ring, twitch.tv, whole foods market, and imdb. among various controversies, the company has been criticized for technological surveillance overreach,[21] a hyper-competitive and demanding work culture,[22] tax avoidance,[23] and anti-competitive practices.[24]']\n",
      "\n",
      "\n",
      "# of lines:7\n",
      "\n",
      "\n",
      "\n",
      "\n",
      "['amazon.com, inc., is an american multinational technology company based in seattle, washington that focuses on e-commerce, cloud computing, digital streaming, and artificial intelligence. it is considered one of the big four technology companies along with google, apple, and facebook.[7][8][9]', \"amazon is known for its disruption of well-established industries through technological innovation and mass scale.[10][11][12] it is the world's largest e-commerce marketplace, ai assistant provider, and cloud computing platform[13] as measured by revenue and market capitalization.[14] amazon is the largest internet company by revenue in the world.[15] it is the second largest private employer in the united states[16] and one of the world's most valuable companies. amazon is the second largest technology company by revenue.\", \"amazon was founded by jeff bezos on july 5, 1994, in bellevue, washington. the company initially started as an online marketplace for books but later expanded to sell electronics, software, video games, apparel, furniture, food, toys, and jewelry. in 2015, amazon surpassed walmart as the most valuable retailer in the united states by market capitalization.[17] in 2017, amazon acquired whole foods market for $13.4 billion, which vastly increased amazon's presence as a brick-and-mortar retailer.[18] in 2018, bezos announced that its two-day delivery service, amazon prime, had surpassed 100 million subscribers worldwide.[19][20]\", 'amazon distributes downloads and streaming of video, music, audiobook through its amazon prime video, amazon music, and audible subsidiaries. amazon also has a publishing arm, amazon publishing, a film and television studio, amazon studios, and a cloud computing subsidiary, amazon web services. it produces consumer electronics including kindle e-readers, fire tablets, fire tv, and echo devices. in addition, amazon subsidiaries also include ring, twitch.tv, whole foods market, and imdb. among various controversies, the company has been criticized for technological surveillance overreach,[21] a hyper-competitive and demanding work culture,[22] tax avoidance,[23] and anti-competitive practices.[24]']\n"
     ]
    }
   ],
   "source": [
    "def test_run():\n",
    "    with open(\"input.txt\", \"r\") as f:\n",
    "        text = f.read()\n",
    "        counts = count_words(text)\n",
    "        print(\"\\n\")\n",
    "        print(counts)\n",
    "        \n",
    "if __name__ == \"__main__\":\n",
    "    test_run()\n"
   ]
  },
  {
   "cell_type": "code",
   "execution_count": null,
   "metadata": {},
   "outputs": [],
   "source": []
  },
  {
   "cell_type": "code",
   "execution_count": null,
   "metadata": {},
   "outputs": [],
   "source": []
  }
 ],
 "metadata": {
  "kernelspec": {
   "display_name": "Python 3",
   "language": "python",
   "name": "python3"
  },
  "language_info": {
   "codemirror_mode": {
    "name": "ipython",
    "version": 3
   },
   "file_extension": ".py",
   "mimetype": "text/x-python",
   "name": "python",
   "nbconvert_exporter": "python",
   "pygments_lexer": "ipython3",
   "version": "3.7.4"
  }
 },
 "nbformat": 4,
 "nbformat_minor": 2
}
