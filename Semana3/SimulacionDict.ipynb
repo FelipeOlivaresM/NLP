{
 "cells": [
  {
   "cell_type": "code",
   "execution_count": 1,
   "metadata": {},
   "outputs": [],
   "source": [
    "from lxml import etree\n",
    "import re\n",
    "from operator import itemgetter\n"
   ]
  },
  {
   "cell_type": "code",
   "execution_count": 2,
   "metadata": {},
   "outputs": [],
   "source": [
    "from gensim.parsing.porter import PorterStemmer\n",
    "from gensim.parsing.preprocessing import remove_stopwords\n",
    "from gensim import corpora\n",
    "from gensim import models\n",
    "from gensim import similarities\n",
    "from smart_open import smart_open"
   ]
  },
  {
   "cell_type": "code",
   "execution_count": 3,
   "metadata": {},
   "outputs": [],
   "source": [
    "def extracttext(text):\n",
    "    \n",
    "    sentenses = re.split(r\"[\\n|\\r]\", text)\n",
    "    # Remove leading and trailing spaces from each sentence\n",
    "    results = []\n",
    "    for sen in sentenses:\n",
    "        s = sen.strip()\n",
    "        if len(s):\n",
    "            results.append(s)\n",
    "            num_libros=len(results)\n",
    "    #print(\"\\n\")\n",
    "    return results[1]\n"
   ]
  },
  {
   "cell_type": "code",
   "execution_count": 4,
   "metadata": {},
   "outputs": [],
   "source": [
    "def querysearch():\n",
    "    \n",
    "    queryid = []\n",
    "    querytext = []\n",
    "    a = 1\n",
    "    queryall = [queryid ,querytext]\n",
    "    while a!=47:\n",
    "        if a < 10:\n",
    "            b = \"0\"+str(a)\n",
    "            if a == 4:\n",
    "                a+=1\n",
    "        elif a < 50:\n",
    "                b = str(a)\n",
    "                if a == 10 or a == 14 or a == 32 or a == 34 or a ==38 or a == 42:\n",
    "                    a+=1\n",
    "                elif a == 19 or a == 29:\n",
    "                    a+=2\n",
    "\n",
    "        docquer = etree.parse(\"./queries-raw-texts/wes2015.q\"+b+\".naf\")\n",
    "        raizquer=docquer.getroot()\n",
    "        idquer = raizquer[0][1].get('publicId')\n",
    "        textquery = raizquer[1].text\n",
    "        queryid.append(idquer)\n",
    "        querytext.append(textquery)\n",
    "        a+=1\n",
    "    #print(queryid)\n",
    "    #print(querytext)    \n",
    "    return queryall\n",
    "    #print(\"\\n\")"
   ]
  },
  {
   "cell_type": "code",
   "execution_count": 5,
   "metadata": {},
   "outputs": [],
   "source": [
    "#Gensim trae sus propias funciones para el procesamiento de texto\n",
    "p = PorterStemmer()"
   ]
  },
  {
   "cell_type": "markdown",
   "metadata": {},
   "source": [
    "<h2>Corpus Streaming</h2>\n",
    "Normalmente los corpus reciden completamente en la memoria. Supongamos que hay millones de documentos en el corpus. Almacenarlos todos en RAM no será suficiente. En su lugar, supongamos que los documentos se almacenan en un archivo en el disco, un documento por línea. Gensim puede procesar un documento a la vez y actualizar dinamicamente e calculo de IDF y del vocabulario."
   ]
  },
  {
   "cell_type": "code",
   "execution_count": 6,
   "metadata": {},
   "outputs": [],
   "source": [
    "#Procesamiento de un texto utilizando las funciones de Gensim\n",
    "def process(text):\n",
    "    doc_nor = text.lower()\n",
    "    #doc_reg = re.sub(r'[^\\w|^\\d]', ' ', doc_nor)\n",
    "    #doc_reg = re.sub(r'[^a-zA-Z]', ' ', doc_nor)\n",
    "    doc_sw = remove_stopwords(doc_nor)\n",
    "    doc_stem = PorterStemmer().stem_sentence(doc_sw)\n",
    "    return doc_stem.split()"
   ]
  },
  {
   "cell_type": "code",
   "execution_count": 7,
   "metadata": {},
   "outputs": [],
   "source": [
    "#Creaccion de lista con documentos procesados\n",
    "docDict = []\n",
    "docTitle = []\n",
    "docID = []\n",
    "a = 1\n",
    "\n",
    "while a!=332:\n",
    "    if a < 10:\n",
    "        b = \"00\"+str(a)\n",
    "    elif a < 100:\n",
    "            b = \"0\"+str(a)\n",
    "    else:\n",
    "            b = str(a)\n",
    "    doc = etree.parse(\"./docs-raw-texts/wes2015.d\"+b+\".naf\")\n",
    "    raiz=doc.getroot()\n",
    "    titulo = raiz[0][0].get('title')\n",
    "    docTitle.append(titulo)\n",
    "    iddoc = raiz[0][1].get('publicId')\n",
    "    docID.append(iddoc)\n",
    "    #print(iddoc)\n",
    "    #print(titulo)\n",
    "    text = raiz[1].text\n",
    "    a+=1\n",
    "    line = extracttext(text)\n",
    "    #print(\"\\n\")\n",
    "    docDict.append(process(line))\n",
    "\n",
    "#print(docID[2])\n",
    "#print(docTitle[2])\n",
    "#print(docDict[2]) #Documentos ya procesados, de esta forma deben ser enviados al metodo de Gensim\n",
    "\n"
   ]
  },
  {
   "cell_type": "code",
   "execution_count": 8,
   "metadata": {},
   "outputs": [],
   "source": [
    "#Ahora si llamamos al metodo de Gensim para crear el diccionario a partir de los documentos\n",
    "dictionary = corpora.Dictionary(docDict)\n",
    "dictionary.save('clase3.dict')\n",
    "#print(dictionary)\n",
    "\n",
    "#Notese que Gensim de una vez asigna a cada token un id\n",
    "#print(dictionary.token2id)"
   ]
  },
  {
   "cell_type": "code",
   "execution_count": 9,
   "metadata": {},
   "outputs": [
    {
     "name": "stdout",
     "output_type": "stream",
     "text": [
      "[(70, 1), (4236, 1), (7809, 2)]\n"
     ]
    }
   ],
   "source": [
    "new_doc = \"Human media interaction media\"\n",
    "new_doc_bow = dictionary.doc2bow(process(new_doc))\n",
    "print(new_doc_bow)  # ¿Si hay cuatro palabras pq solo dos tokens?"
   ]
  },
  {
   "cell_type": "code",
   "execution_count": 10,
   "metadata": {},
   "outputs": [],
   "source": [
    "#Construccion del corpus == Cada documento representado con el vocabulario/diccionario definido anteriormente (Bolsa de palabras)\n",
    "class MyCorpus(object):\n",
    "    def __iter__(self):\n",
    "        a = 1\n",
    "\n",
    "        while a!=332:\n",
    "            if a < 10:\n",
    "                b = \"00\"+str(a)\n",
    "            elif a < 100:\n",
    "                    b = \"0\"+str(a)\n",
    "            else:\n",
    "                b = str(a)\n",
    "            doc = etree.parse(\"./docs-raw-texts/wes2015.d\"+b+\".naf\")\n",
    "            raiz=doc.getroot()\n",
    "            titulo = raiz[0][0].get('title')\n",
    "            iddoc = raiz[0][1].get('publicId')\n",
    "            #print(iddoc)\n",
    "            #print(titulo)\n",
    "            text = raiz[1].text\n",
    "            a+=1\n",
    "            line = extracttext(text)\n",
    "            yield dictionary.doc2bow(process(line))\n",
    "\n",
    "corpus_memory_friendly = MyCorpus()#Todos mis documentos ahora estan representados como una bolsa de palabras\n",
    "#Almaceno mi corpus\n",
    "corpora.MmCorpus.serialize('corpus.mm', corpus_memory_friendly)  "
   ]
  },
  {
   "cell_type": "code",
   "execution_count": 11,
   "metadata": {},
   "outputs": [],
   "source": [
    "#Cargo mi corpus\n",
    "corpus = corpora.MmCorpus('corpus.mm')\n",
    "#print(corpus) #No lo carga en memoria\n",
    "#Para leer la representacion de bolda de palabras resultante de cada documento en el corpus\n",
    "#for doc in corpus:\n",
    "#    print(doc)"
   ]
  },
  {
   "cell_type": "markdown",
   "metadata": {},
   "source": [
    "<h2>Vector Space Model - TF-IDF</h2>"
   ]
  },
  {
   "cell_type": "code",
   "execution_count": 12,
   "metadata": {},
   "outputs": [],
   "source": [
    "#Suponga que tenemos el diccionario y corpus en disco\n",
    "#Primero necesitamos cargarlos\n",
    "dictionary = corpora.Dictionary.load('clase3.dict')\n",
    "corpus = corpora.MmCorpus('corpus.mm')"
   ]
  },
  {
   "cell_type": "code",
   "execution_count": 13,
   "metadata": {},
   "outputs": [],
   "source": [
    "#Construyendo un modelo VSM con ponderacion por TF-IDF\n",
    "tfidf = models.TfidfModel(corpus) #Inizializacion"
   ]
  },
  {
   "cell_type": "code",
   "execution_count": 14,
   "metadata": {},
   "outputs": [
    {
     "name": "stdout",
     "output_type": "stream",
     "text": [
      "[(16449, 1)]\n",
      "[(16449, 1.0)]\n"
     ]
    }
   ],
   "source": [
    "#Supongamos que queremos calcular la similitud de un nuevo documento con los documentos en el corpus\n",
    "#1. Construimos la representación vectorial del query\n",
    "query_doc = \"Amazon vs Microsoft\"\n",
    "query_doc_bow = dictionary.doc2bow(process(query_doc))\n",
    "print(query_doc_bow)\n",
    "print(tfidf[query_doc_bow])"
   ]
  },
  {
   "cell_type": "code",
   "execution_count": 15,
   "metadata": {},
   "outputs": [],
   "source": [
    "#2. Ahora construimos la matrix t/d con los documentos contra los cuales queremos compara el query\n",
    "index = similarities.MatrixSimilarity(tfidf[corpus]) \n",
    "# Vamos a salvar el inidice resultante para no tener que recalcularlo cada vez que los necesitemos.\n",
    "index.save('clase3tfidf.index')"
   ]
  },
  {
   "cell_type": "code",
   "execution_count": 16,
   "metadata": {},
   "outputs": [],
   "source": [
    "#Una vez guardado lo podemos cargar sin necesidad de recalcularlo\n",
    "index = similarities.MatrixSimilarity.load('clase3tfidf.index')"
   ]
  },
  {
   "cell_type": "code",
   "execution_count": 17,
   "metadata": {},
   "outputs": [],
   "source": [
    "# Ejecutar las similitudes entre el documento query y el corpus ahora es muy facil!!!\n",
    "\n",
    "queryreturn = querysearch()\n",
    "queryid = queryreturn[0]\n",
    "querydoc = queryreturn[1]\n",
    "archivo = open ('top-10.txt','w')\n",
    "id=0\n",
    "for query in querydoc:\n",
    "    \n",
    "    query_doc_bow = dictionary.doc2bow(process(query))\n",
    "    sims = index[tfidf[query_doc_bow]]\n",
    "    #print(type(sims))\n",
    "    listofdoctf= list(enumerate(sims))\n",
    "    #print(listofdoctf)\n",
    "    #print(\"\\n\")\n",
    "    sorted_by_second = sorted(listofdoctf,key=itemgetter(1), reverse = True)\n",
    "    #print(sorted_by_second)\n",
    "    varTen = \"10 most similarity documents:\\n\"\n",
    "    #archivo.write(varTen)\n",
    "    archivo.write(queryid[id]+\"\\t\")\n",
    "    for doc, similitudQ in sorted_by_second[:10]:  \n",
    "        \n",
    "        archivo.write( docID[doc]+\",\")\n",
    "        #print(\"{}\\t{}\".format(docID[doc], similitudQ))\n",
    "    #print(\"\\n\")    \n",
    "    archivo.write(\"\\n\")\n",
    "    id+=1\n",
    "archivo.close()\n",
    "    \n",
    "\n",
    "#print(list(enumerate(sims)))  print (document_number, document_similarity) 2-tuples#"
   ]
  },
  {
   "cell_type": "code",
   "execution_count": 23,
   "metadata": {},
   "outputs": [],
   "source": [
    "\n",
    "def relevancejud(docDic):\n",
    "    dicFinal = []\n",
    "    dicFinal2 = []\n",
    "    \n",
    "    #print(len(docDic))\n",
    "    \n",
    "    for index in range(len(docDic)):\n",
    "        dataqueryid = docDic[index][0]\n",
    "        dataquery = docDic[index][1]\n",
    "        #print(dataqueryid)\n",
    "        #print(\"\\n\")\n",
    "        #print(dataquery)\n",
    "        #print(\"\\n\")\n",
    "        normalice = re.sub(r':\\d', '', dataquery)\n",
    "        normalice = re.split(\",\",normalice)\n",
    "        #print(normalice)\n",
    "        dicFinal.append(dataqueryid)\n",
    "        dicFinal2.append(normalice)\n",
    "\n",
    "        #print(dicFinal)\n",
    "        #print(dicFinal2)\n",
    "    return dicFinal,dicFinal2\n"
   ]
  },
  {
   "cell_type": "code",
   "execution_count": 33,
   "metadata": {},
   "outputs": [],
   "source": [
    "\n",
    "def docssimulationDict(docDic):\n",
    "    dicFinal3 = []\n",
    "    dicFinal4 = []\n",
    "    #print(len(docDic))\n",
    "    \n",
    "    for index in range(len(docDic)):\n",
    "        dataqueryid = docDic[index][0]\n",
    "        dataquery = docDic[index][1]\n",
    "        #print(dataqueryid)\n",
    "        #print(\"\\n\")\n",
    "        #print(dataquery)\n",
    "        #print(\"\\n\")\n",
    "        normalice = re.sub(r':\\d', '', dataquery)\n",
    "        normalice = re.split(\",\",normalice)\n",
    "        #print(normalice)\n",
    "        dicFinal3.append(dataqueryid)\n",
    "        dicFinal4.append(normalice)\n",
    "\n",
    "        #print(dicFinal3)\n",
    "        #print(dicFinal4)\n",
    "    return dicFinal3,dicFinal4\n"
   ]
  },
  {
   "cell_type": "code",
   "execution_count": 63,
   "metadata": {},
   "outputs": [],
   "source": [
    "def precisionandrecall(relevanceid,relevancequery,docsimquery,k):\n",
    "    \n",
    "    for i in range(len(relevancequery)):\n",
    "        print (relevanceid[i], relevancequery[i] , docsimquery[i])\n",
    "    \n",
    "    "
   ]
  },
  {
   "cell_type": "code",
   "execution_count": 64,
   "metadata": {},
   "outputs": [
    {
     "name": "stdout",
     "output_type": "stream",
     "text": [
      "q01 ['d186', 'd254', 'd016'] ['d016', 'd259', 'd209', 'd254', 'd085', 'd186', 'd170', 'd008', 'd315', 'd004', '']\n",
      "q02 ['d136', 'd139', 'd143', 'd283', 'd228', 'd164', 'd318', 'd291', 'd293', 'd147', 'd149'] ['d147', 'd283', 'd002', 'd134', 'd293', 'd023', 'd014', 'd282', 'd143', 'd316', '']\n",
      "q03 ['d152', 'd291', 'd283', 'd147', 'd318', 'd105'] ['d283', 'd152', 'd001', 'd002', 'd003', 'd004', 'd005', 'd006', 'd007', 'd008', '']\n",
      "q04 ['d275', 'd010', 'd286', 'd019', 'd049', 'd330', 'd270'] ['d270', 'd275', 'd310', 'd019', 'd010', 'd049', 'd100', 'd060', 'd205', 'd111', '']\n",
      "q06 ['d069', 'd233', 'd257', 'd297', 'd026', 'd329'] ['d297', 'd329', 'd026', 'd029', 'd257', 'd025', 'd233', 'd166', 'd154', 'd023', '']\n",
      "q07 ['d004', 'd077', 'd266', 'd179'] ['d289', 'd146', 'd004', 'd034', 'd266', 'd123', 'd098', 'd284', 'd042', 'd234', '']\n",
      "q08 ['d205', 'd005', 'd110', 'd108', 'd117', 'd081', 'd292', 'd251', 'd028', 'd271', 'd121', 'd180'] ['d110', 'd251', 'd292', 'd106', 'd107', 'd180', 'd108', 'd246', 'd117', 'd235', '']\n",
      "q09 ['d205', 'd199', 'd198', 'd223', 'd217', 'd177'] ['d217', 'd198', 'd223', 'd085', 'd177', 'd330', 'd299', 'd069', 'd175', 'd065', '']\n",
      "q10 ['d068', 'd100', 'd065', 'd076', 'd231', 'd199', 'd052', 'd215'] ['d060', 'd231', 'd100', 'd036', 'd052', 'd031', 'd072', 'd091', 'd034', 'd314', '']\n",
      "q12 ['d239', 'd277', 'd258', 'd250'] ['d277', 'd258', 'd239', 'd250', 'd056', 'd132', 'd081', 'd078', 'd012', 'd096', '']\n",
      "q13 ['d239', 'd277', 'd258', 'd049', 'd056'] ['d272', 'd049', 'd276', 'd056', 'd258', 'd239', 'd277', 'd043', 'd286', 'd241', '']\n",
      "q14 ['d002', 'd005', 'd142', 'd314', 'd280', 'd130', 'd041', 'd117', 'd081', 'd093', 'd091', 'd180'] ['d145', 'd002', 'd091', 'd121', 'd081', 'd122', 'd030', 'd180', 'd117', 'd133', '']\n",
      "q16 ['d229', 'd132'] ['d132', 'd184', 'd250', 'd176', 'd277', 'd239', 'd081', 'd024', 'd078', 'd156', '']\n",
      "q17 ['d280', 'd271', 'd121', 'd091'] ['d271', 'd172', 'd146', 'd091', 'd121', 'd024', 'd171', 'd274', 'd183', 'd316', '']\n",
      "q18 ['d207', 'd201', 'd192', 'd194', 'd222', 'd216', 'd210'] ['d192', 'd194', 'd201', 'd230', 'd207', 'd210', 'd111', 'd216', 'd223', 'd222', '']\n",
      "q19 ['d077', 'd179'] ['d179', 'd323', 'd004', 'd273', 'd021', 'd102', 'd001', 'd330', 'd069', 'd320', '']\n",
      "q22 ['d277', 'd011', 'd132', 'd258', 'd049', 'd250', 'd331'] ['d239', 'd266', 'd056', 'd049', 'd297', 'd327', 'd277', 'd258', 'd331', 'd159', '']\n",
      "q23 ['d205', 'd202', 'd276', 'd194', 'd216', 'd219', 'd215', 'd211'] ['d219', 'd276', 'd026', 'd007', 'd318', 'd245', 'd221', 'd173', 'd107', 'd228', '']\n",
      "q24 ['d098', 'd129', 'd196', 'd221', 'd060'] ['d220', 'd223', 'd061', 'd216', 'd222', 'd099', 'd192', 'd213', 'd202', 'd201', '']\n",
      "q25 ['d167', 'd166', 'd020', 'd023'] ['d166', 'd128', 'd020', 'd156', 'd023', 'd328', 'd265', 'd167', 'd001', 'd002', '']\n",
      "q26 ['d152'] ['d152', 'd291', 'd143', 'd171', 'd131', 'd293', 'd095', 'd206', 'd147', 'd241', '']\n",
      "q27 ['d103', 'd143', 'd107', 'd051', 'd017', 'd054', 'd293', 'd158'] ['d103', 'd316', 'd054', 'd051', 'd056', 'd116', 'd211', 'd067', 'd187', 'd166', '']\n",
      "q28 ['d136', 'd316', 'd094'] ['d316', 'd056', 'd094', 'd291', 'd066', 'd279', 'd322', 'd035', 'd136', 'd102', '']\n",
      "q29 ['d001', 'd037', 'd130', 'd314', 'd046', 'd133', 'd113', 'd294', 'd261', 'd093', 'd062', 'd120'] ['d314', 'd113', 'd001', 'd120', 'd133', 'd261', 'd046', 'd062', 'd191', 'd286', '']\n",
      "q32 ['d139', 'd067', 'd025', 'd031', 'd090'] ['d090', 'd025', 'd139', 'd067', 'd092', 'd282', 'd140', 'd254', 'd305', 'd141', '']\n",
      "q34 ['d248'] ['d224', 'd312', 'd075', 'd198', 'd113', 'd221', 'd037', 'd040', 'd232', 'd246', '']\n",
      "q36 ['d277', 'd167', 'd257', 'd020', 'd023', 'd321', 'd247', 'd265', 'd150', 'd328'] ['d257', 'd321', 'd277', 'd023', 'd247', 'd150', 'd328', 'd265', 'd107', 'd020', '']\n",
      "q37 ['d169', 'd256', 'd116'] ['d169', 'd062', 'd327', 'd141', 'd294', 'd001', 'd002', 'd003', 'd004', 'd005', '']\n",
      "q38 ['d235', 'd039', 'd229', 'd317', 'd015', 'd250', 'd263', 'd294'] ['d239', 'd263', 'd056', 'd229', 'd036', 'd294', 'd138', 'd118', 'd258', 'd317', '']\n",
      "q40 ['d307', 'd098', 'd042', 'd047', 'd252', 'd262', 'd112', 'd242', 'd122'] ['d250', 'd283', 'd307', 'd122', 'd042', 'd288', 'd228', 'd046', 'd058', 'd131', '']\n",
      "q41 ['d174', 'd128', 'd318', 'd291', 'd150', 'd268', 'd121'] ['d174', 'd128', 'd150', 'd268', 'd195', 'd014', 'd209', 'd272', 'd223', 'd330', '']\n",
      "q42 ['d314', 'd014', 'd298'] ['d298', 'd218', 'd125', 'd174', 'd216', 'd224', 'd314', 'd203', 'd208', 'd241', '']\n",
      "q44 ['d170', 'd003', 'd164', 'd105', 'd085', 'd254', 'd185', 'd126', 'd148', 'd029'] ['d239', 'd029', 'd164', 'd185', 'd246', 'd314', 'd182', 'd059', 'd067', 'd117', '']\n",
      "q45 ['d170', 'd105', 'd164', 'd254', 'd085', 'd185', 'd126', 'd148'] ['d105', 'd185', 'd085', 'd126', 'd164', 'd170', 'd188', 'd254', 'd204', 'd100', '']\n",
      "q46 ['d002', 'd005', 'd314', 'd133', 'd093', 'd121'] ['d145', 'd133', 'd013', 'd321', 'd122', 'd121', 'd091', 'd030', 'd081', 'd125', '']\n"
     ]
    }
   ],
   "source": [
    "docDict1 = []\n",
    "for line in smart_open('top-10.txt', 'rb'):\n",
    "    docDict1.append(process(line))  \n",
    "\n",
    "docDict2 = []\n",
    "for line in smart_open('relevance-judgments.tsv', 'rb'):\n",
    "    docDict2.append(process(line))  \n",
    "#print(docDict2)\n",
    "    \n",
    "\n",
    "dicjud,dicjud2 = relevancejud(docDict2)\n",
    "dicdocsim, dicdocsim2 = docssimulationDict(docDict1)\n",
    "\n",
    "precisionandrecall(dicjud,dicjud2,dicdocsim2,3)\n",
    "#print(dicjud)\n",
    "#print(\"\\n\")\n",
    "#print(dicjud2)\n",
    "#print(\"\\n\")\n",
    "#print(dicdocsim)\n",
    "#print(\"\\n\")\n",
    "#print(dicdocsim2)\n",
    "#print(\"\\n\")\n",
    "#print(\"\\n\")"
   ]
  },
  {
   "cell_type": "code",
   "execution_count": null,
   "metadata": {},
   "outputs": [],
   "source": []
  },
  {
   "cell_type": "code",
   "execution_count": null,
   "metadata": {},
   "outputs": [],
   "source": []
  }
 ],
 "metadata": {
  "kernelspec": {
   "display_name": "Python 3",
   "language": "python",
   "name": "python3"
  },
  "language_info": {
   "codemirror_mode": {
    "name": "ipython",
    "version": 3
   },
   "file_extension": ".py",
   "mimetype": "text/x-python",
   "name": "python",
   "nbconvert_exporter": "python",
   "pygments_lexer": "ipython3",
   "version": "3.6.9"
  }
 },
 "nbformat": 4,
 "nbformat_minor": 4
}
