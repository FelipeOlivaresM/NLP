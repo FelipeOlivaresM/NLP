{
 "cells": [
  {
   "cell_type": "code",
   "execution_count": 3,
   "metadata": {},
   "outputs": [],
   "source": [
    "from lxml import etree\n",
    "import re\n",
    "from operator import itemgetter\n"
   ]
  },
  {
   "cell_type": "code",
   "execution_count": 4,
   "metadata": {},
   "outputs": [],
   "source": [
    "from gensim.parsing.porter import PorterStemmer\n",
    "from gensim.parsing.preprocessing import remove_stopwords\n",
    "from gensim import corpora\n",
    "from gensim import models\n",
    "from gensim import similarities\n",
    "from smart_open import smart_open"
   ]
  },
  {
   "cell_type": "code",
   "execution_count": 5,
   "metadata": {},
   "outputs": [],
   "source": [
    "def extracttext(text):\n",
    "    \n",
    "    sentenses = re.split(r\"[\\n|\\r]\", text)\n",
    "    # Remove leading and trailing spaces from each sentence\n",
    "    results = []\n",
    "    for sen in sentenses:\n",
    "        s = sen.strip()\n",
    "        if len(s):\n",
    "            results.append(s)\n",
    "            num_libros=len(results)\n",
    "    #print(\"\\n\")\n",
    "    return results[1]\n"
   ]
  },
  {
   "cell_type": "code",
   "execution_count": 6,
   "metadata": {},
   "outputs": [],
   "source": [
    "def querysearch():\n",
    "    \n",
    "    queryid = []\n",
    "    querytext = []\n",
    "    a = 1\n",
    "    queryall = [queryid ,querytext]\n",
    "    while a!=47:\n",
    "        if a < 10:\n",
    "            b = \"0\"+str(a)\n",
    "            if a == 4:\n",
    "                a+=1\n",
    "        elif a < 50:\n",
    "                b = str(a)\n",
    "                if a == 10 or a == 14 or a == 32 or a == 34 or a ==38 or a == 42:\n",
    "                    a+=1\n",
    "                elif a == 19 or a == 29:\n",
    "                    a+=2\n",
    "\n",
    "        docquer = etree.parse(\"./queries-raw-texts/wes2015.q\"+b+\".naf\")\n",
    "        raizquer=docquer.getroot()\n",
    "        idquer = raizquer[0][1].get('publicId')\n",
    "        textquery = raizquer[1].text\n",
    "        queryid.append(idquer)\n",
    "        querytext.append(textquery)\n",
    "        a+=1\n",
    "    #print(queryid)\n",
    "    #print(querytext)    \n",
    "    return queryall\n",
    "    #print(\"\\n\")"
   ]
  },
  {
   "cell_type": "code",
   "execution_count": 8,
   "metadata": {},
   "outputs": [],
   "source": [
    "#Gensim trae sus propias funciones para el procesamiento de texto\n",
    "p = PorterStemmer()"
   ]
  },
  {
   "cell_type": "markdown",
   "metadata": {},
   "source": [
    "<h2>Corpus Streaming</h2>\n",
    "Normalmente los corpus reciden completamente en la memoria. Supongamos que hay millones de documentos en el corpus. Almacenarlos todos en RAM no será suficiente. En su lugar, supongamos que los documentos se almacenan en un archivo en el disco, un documento por línea. Gensim puede procesar un documento a la vez y actualizar dinamicamente e calculo de IDF y del vocabulario."
   ]
  },
  {
   "cell_type": "code",
   "execution_count": 9,
   "metadata": {},
   "outputs": [],
   "source": [
    "#Procesamiento de un texto utilizando las funciones de Gensim\n",
    "def process(text):\n",
    "    doc_nor = text.lower()\n",
    "    #doc_reg = re.sub(r'[^\\w|^\\d]', ' ', doc_nor)\n",
    "    #doc_reg = re.sub(r'[^a-zA-Z]', ' ', doc_nor)\n",
    "    doc_sw = remove_stopwords(doc_nor)\n",
    "    doc_stem = PorterStemmer().stem_sentence(doc_sw)\n",
    "    return doc_stem.split()"
   ]
  },
  {
   "cell_type": "code",
   "execution_count": 10,
   "metadata": {},
   "outputs": [],
   "source": [
    "#Creaccion de lista con documentos procesados\n",
    "docDict = []\n",
    "docTitle = []\n",
    "docID = []\n",
    "a = 1\n",
    "\n",
    "while a!=332:\n",
    "    if a < 10:\n",
    "        b = \"00\"+str(a)\n",
    "    elif a < 100:\n",
    "            b = \"0\"+str(a)\n",
    "    else:\n",
    "            b = str(a)\n",
    "    doc = etree.parse(\"./docs-raw-texts/wes2015.d\"+b+\".naf\")\n",
    "    raiz=doc.getroot()\n",
    "    titulo = raiz[0][0].get('title')\n",
    "    docTitle.append(titulo)\n",
    "    iddoc = raiz[0][1].get('publicId')\n",
    "    docID.append(iddoc)\n",
    "    #print(iddoc)\n",
    "    #print(titulo)\n",
    "    text = raiz[1].text\n",
    "    a+=1\n",
    "    line = extracttext(text)\n",
    "    #print(\"\\n\")\n",
    "    docDict.append(process(line))\n",
    "\n",
    "#print(docID[2])\n",
    "#print(docTitle[2])\n",
    "#print(docDict[2]) #Documentos ya procesados, de esta forma deben ser enviados al metodo de Gensim\n",
    "\n"
   ]
  },
  {
   "cell_type": "code",
   "execution_count": 11,
   "metadata": {},
   "outputs": [],
   "source": [
    "#Ahora si llamamos al metodo de Gensim para crear el diccionario a partir de los documentos\n",
    "dictionary = corpora.Dictionary(docDict)\n",
    "dictionary.save('clase3.dict')\n",
    "#print(dictionary)\n",
    "\n",
    "#Notese que Gensim de una vez asigna a cada token un id\n",
    "#print(dictionary.token2id)"
   ]
  },
  {
   "cell_type": "code",
   "execution_count": 12,
   "metadata": {},
   "outputs": [
    {
     "name": "stdout",
     "output_type": "stream",
     "text": [
      "[(70, 1), (4236, 1), (7809, 2)]\n"
     ]
    }
   ],
   "source": [
    "new_doc = \"Human media interaction media\"\n",
    "new_doc_bow = dictionary.doc2bow(process(new_doc))\n",
    "print(new_doc_bow)  # ¿Si hay cuatro palabras pq solo dos tokens?"
   ]
  },
  {
   "cell_type": "code",
   "execution_count": 13,
   "metadata": {},
   "outputs": [],
   "source": [
    "#Construccion del corpus == Cada documento representado con el vocabulario/diccionario definido anteriormente (Bolsa de palabras)\n",
    "class MyCorpus(object):\n",
    "    def __iter__(self):\n",
    "        a = 1\n",
    "\n",
    "        while a!=332:\n",
    "            if a < 10:\n",
    "                b = \"00\"+str(a)\n",
    "            elif a < 100:\n",
    "                    b = \"0\"+str(a)\n",
    "            else:\n",
    "                b = str(a)\n",
    "            doc = etree.parse(\"./docs-raw-texts/wes2015.d\"+b+\".naf\")\n",
    "            raiz=doc.getroot()\n",
    "            titulo = raiz[0][0].get('title')\n",
    "            iddoc = raiz[0][1].get('publicId')\n",
    "            #print(iddoc)\n",
    "            #print(titulo)\n",
    "            text = raiz[1].text\n",
    "            a+=1\n",
    "            line = extracttext(text)\n",
    "            yield dictionary.doc2bow(process(line))\n",
    "\n",
    "corpus_memory_friendly = MyCorpus()#Todos mis documentos ahora estan representados como una bolsa de palabras\n",
    "#Almaceno mi corpus\n",
    "corpora.MmCorpus.serialize('corpus.mm', corpus_memory_friendly)  "
   ]
  },
  {
   "cell_type": "code",
   "execution_count": 14,
   "metadata": {},
   "outputs": [],
   "source": [
    "#Cargo mi corpus\n",
    "corpus = corpora.MmCorpus('corpus.mm')\n",
    "#print(corpus) #No lo carga en memoria\n",
    "#Para leer la representacion de bolda de palabras resultante de cada documento en el corpus\n",
    "#for doc in corpus:\n",
    "#    print(doc)"
   ]
  },
  {
   "cell_type": "markdown",
   "metadata": {},
   "source": [
    "<h2>Vector Space Model - TF-IDF</h2>"
   ]
  },
  {
   "cell_type": "code",
   "execution_count": 15,
   "metadata": {},
   "outputs": [],
   "source": [
    "#Suponga que tenemos el diccionario y corpus en disco\n",
    "#Primero necesitamos cargarlos\n",
    "dictionary = corpora.Dictionary.load('clase3.dict')\n",
    "corpus = corpora.MmCorpus('corpus.mm')"
   ]
  },
  {
   "cell_type": "code",
   "execution_count": 16,
   "metadata": {},
   "outputs": [],
   "source": [
    "#Construyendo un modelo VSM con ponderacion por TF-IDF\n",
    "tfidf = models.TfidfModel(corpus) #Inizializacion"
   ]
  },
  {
   "cell_type": "code",
   "execution_count": 17,
   "metadata": {},
   "outputs": [
    {
     "name": "stdout",
     "output_type": "stream",
     "text": [
      "[(16449, 1)]\n",
      "[(16449, 1.0)]\n"
     ]
    }
   ],
   "source": [
    "#Supongamos que queremos calcular la similitud de un nuevo documento con los documentos en el corpus\n",
    "#1. Construimos la representación vectorial del query\n",
    "query_doc = \"Amazon vs Microsoft\"\n",
    "query_doc_bow = dictionary.doc2bow(process(query_doc))\n",
    "print(query_doc_bow)\n",
    "print(tfidf[query_doc_bow])"
   ]
  },
  {
   "cell_type": "code",
   "execution_count": 18,
   "metadata": {},
   "outputs": [],
   "source": [
    "#2. Ahora construimos la matrix t/d con los documentos contra los cuales queremos compara el query\n",
    "index = similarities.MatrixSimilarity(tfidf[corpus]) \n",
    "# Vamos a salvar el inidice resultante para no tener que recalcularlo cada vez que los necesitemos.\n",
    "index.save('clase3tfidf.index')"
   ]
  },
  {
   "cell_type": "code",
   "execution_count": 19,
   "metadata": {},
   "outputs": [],
   "source": [
    "#Una vez guardado lo podemos cargar sin necesidad de recalcularlo\n",
    "index = similarities.MatrixSimilarity.load('clase3tfidf.index')"
   ]
  },
  {
   "cell_type": "code",
   "execution_count": 69,
   "metadata": {},
   "outputs": [],
   "source": [
    "# Ejecutar las similitudes entre el documento query y el corpus ahora es muy facil!!!\n",
    "\n",
    "queryreturn = querysearch()\n",
    "queryid = queryreturn[0]\n",
    "querydoc = queryreturn[1]\n",
    "archivo = open ('top-10.txt','w')\n",
    "id=0\n",
    "for query in querydoc:\n",
    "    \n",
    "    query_doc_bow = dictionary.doc2bow(process(query))\n",
    "    sims = index[tfidf[query_doc_bow]]\n",
    "    #print(type(sims))\n",
    "    listofdoctf= list(enumerate(sims))\n",
    "    #print(listofdoctf)\n",
    "    #print(\"\\n\")\n",
    "    sorted_by_second = sorted(listofdoctf,key=itemgetter(1), reverse = True)\n",
    "    #print(sorted_by_second)\n",
    "    varTen = \"10 most similarity documents:\\n\"\n",
    "    #archivo.write(varTen)\n",
    "    queryid[id]\n",
    "    for doc, similitudQ in sorted_by_second[:10]:  \n",
    "        archivo.write( \",\" +docID[doc])\n",
    "        #print(\"{}\\t{}\".format(docID[doc], similitudQ))\n",
    "    #print(\"\\n\")    \n",
    "    archivo.write(\"\\n\")\n",
    "    id+=1\n",
    "archivo.close()\n",
    "    \n",
    "\n",
    "#print(list(enumerate(sims)))  print (document_number, document_similarity) 2-tuples#"
   ]
  },
  {
   "cell_type": "code",
   "execution_count": 70,
   "metadata": {},
   "outputs": [
    {
     "name": "stdout",
     "output_type": "stream",
     "text": [
      "b'q01\\td186:4,d254:5,d016:5\\n'\n",
      "b'q02\\td136:2,d139:2,d143:4,d283:4,d228:4,d164:4,d318:2,d291:4,d293:4,d147:2,d149:2\\n'\n",
      "b'q03\\td152:3,d291:4,d283:4,d147:3,d318:2,d105:2\\n'\n",
      "b'q04\\td275:3,d010:3,d286:2,d019:2,d049:2,d330:2,d270:3\\n'\n",
      "b'q06\\td069:2,d233:3,d257:2,d297:3,d026:4,d329:5\\n'\n",
      "b'q07\\td004:3,d077:3,d266:2,d179:3\\n'\n",
      "b'q08\\td205:2,d005:4,d110:4,d108:3,d117:3,d081:2,d292:2,d251:5,d028:3,d271:3,d121:2,d180:2\\n'\n",
      "b'q09\\td205:3,d199:5,d198:3,d223:2,d217:2,d177:2\\n'\n",
      "b'q10\\td068:2,d100:2,d065:3,d076:3,d231:4,d199:4,d052:2,d215:2\\n'\n",
      "b'q12\\td239:4,d277:4,d258:3,d250:4\\n'\n",
      "b'q13\\td239:2,d277:2,d258:2,d049:4,d056:4\\n'\n",
      "b'q14\\td002:2,d005:3,d142:2,d314:3,d280:3,d130:3,d041:3,d117:2,d081:4,d093:3,d091:4,d180:3\\n'\n",
      "b'q16\\td229:2,d132:3\\n'\n",
      "b'q17\\td280:2,d271:4,d121:4,d091:2\\n'\n",
      "b'q18\\td207:2,d201:3,d192:4,d194:3,d222:2,d216:2,d210:3\\n'\n",
      "b'q19\\td077:2,d179:5\\n'\n",
      "b'q22\\td277:2,d011:3,d132:2,d258:2,d049:2,d250:2,d331:2\\n'\n",
      "b'q23\\td205:2,d202:2,d276:4,d194:2,d216:2,d219:5,d215:2,d211:3\\n'\n",
      "b'q24\\td098:2,d129:3,d196:2,d221:2,d060:2\\n'\n",
      "b'q25\\td167:3,d166:3,d020:3,d023:2\\n'\n",
      "b'q26\\td152:5\\n'\n",
      "b'q27\\td103:5,d143:2,d107:2,d051:2,d017:2,d054:5,d293:4,d158:2\\n'\n",
      "b'q28\\td136:5,d316:3,d094:3\\n'\n",
      "b'q29\\td001:3,d037:5,d130:3,d314:4,d046:3,d133:4,d113:4,d294:2,d261:3,d093:2,d062:4,d120:3\\n'\n",
      "b'q32\\td139:3,d067:3,d025:5,d031:2,d090:4\\n'\n",
      "b'q34\\td248:5\\n'\n",
      "b'q36\\td277:4,d167:2,d257:4,d020:3,d023:3,d321:3,d247:4,d265:4,d150:3,d328:3\\n'\n",
      "b'q37\\td169:5,d256:2,d116:3\\n'\n",
      "b'q38\\td235:4,d039:3,d229:2,d317:2,d015:2,d250:2,d263:2,d294:4\\n'\n",
      "b'q40\\td307:3,d098:3,d042:5,d047:5,d252:2,d262:3,d112:3,d242:4,d122:3\\n'\n",
      "b'q41\\td174:3,d128:3,d318:5,d291:4,d150:5,d268:2,d121:3\\n'\n",
      "b'q42\\td314:2,d014:2,d298:5\\n'\n",
      "b'q44\\td170:2,d003:2,d164:2,d105:2,d085:2,d254:2,d185:3,d126:2,d148:2,d029:4\\n'\n",
      "b'q45\\td170:3,d105:5,d164:3,d254:2,d085:4,d185:3,d126:3,d148:2\\n'\n",
      "b'q46\\td002:2,d005:2,d314:2,d133:3,d093:2,d121:3\\n'\n"
     ]
    }
   ],
   "source": [
    "for line in smart_open('relevance-judgments.tsv', 'rb'):\n",
    "    #docDict.append(process(line))  \n",
    "    print(line)"
   ]
  },
  {
   "cell_type": "code",
   "execution_count": 71,
   "metadata": {
    "scrolled": true
   },
   "outputs": [
    {
     "name": "stdout",
     "output_type": "stream",
     "text": [
      "b'q01,d016q01,d259q01,d209q01,d254q01,d085q01,d186q01,d170q01,d008q01,d315q01,d004\\n'\n",
      "b'q02,d147q02,d283q02,d002q02,d134q02,d293q02,d023q02,d014q02,d282q02,d143q02,d316\\n'\n",
      "b'q03,d283q03,d152q03,d001q03,d002q03,d003q03,d004q03,d005q03,d006q03,d007q03,d008\\n'\n",
      "b'q04,d270q04,d275q04,d310q04,d019q04,d010q04,d049q04,d100q04,d060q04,d205q04,d111\\n'\n",
      "b'q06,d297q06,d329q06,d026q06,d029q06,d257q06,d025q06,d233q06,d166q06,d154q06,d023\\n'\n",
      "b'q07,d289q07,d146q07,d004q07,d034q07,d266q07,d123q07,d098q07,d284q07,d042q07,d234\\n'\n",
      "b'q08,d110q08,d251q08,d292q08,d106q08,d107q08,d180q08,d108q08,d246q08,d117q08,d235\\n'\n",
      "b'q09,d217q09,d198q09,d223q09,d085q09,d177q09,d330q09,d299q09,d069q09,d175q09,d065\\n'\n",
      "b'q10,d060q10,d231q10,d100q10,d036q10,d052q10,d031q10,d072q10,d091q10,d034q10,d314\\n'\n",
      "b'q12,d277q12,d258q12,d239q12,d250q12,d056q12,d132q12,d081q12,d078q12,d012q12,d096\\n'\n",
      "b'q13,d272q13,d049q13,d276q13,d056q13,d258q13,d239q13,d277q13,d043q13,d286q13,d241\\n'\n",
      "b'q14,d145q14,d002q14,d091q14,d121q14,d081q14,d122q14,d030q14,d180q14,d117q14,d133\\n'\n",
      "b'q16,d132q16,d184q16,d250q16,d176q16,d277q16,d239q16,d081q16,d024q16,d078q16,d156\\n'\n",
      "b'q17,d271q17,d172q17,d146q17,d091q17,d121q17,d024q17,d171q17,d274q17,d183q17,d316\\n'\n",
      "b'q18,d192q18,d194q18,d201q18,d230q18,d207q18,d210q18,d111q18,d216q18,d223q18,d222\\n'\n",
      "b'q19,d179q19,d323q19,d004q19,d273q19,d021q19,d102q19,d001q19,d330q19,d069q19,d320\\n'\n",
      "b'q22,d239q22,d266q22,d056q22,d049q22,d297q22,d327q22,d277q22,d258q22,d331q22,d159\\n'\n",
      "b'q23,d219q23,d276q23,d026q23,d007q23,d318q23,d245q23,d221q23,d173q23,d107q23,d228\\n'\n",
      "b'q24,d220q24,d223q24,d061q24,d216q24,d222q24,d099q24,d192q24,d213q24,d202q24,d201\\n'\n",
      "b'q25,d166q25,d128q25,d020q25,d156q25,d023q25,d328q25,d265q25,d167q25,d001q25,d002\\n'\n",
      "b'q26,d152q26,d291q26,d143q26,d171q26,d131q26,d293q26,d095q26,d206q26,d147q26,d241\\n'\n",
      "b'q27,d103q27,d316q27,d054q27,d051q27,d056q27,d116q27,d211q27,d067q27,d187q27,d166\\n'\n",
      "b'q28,d316q28,d056q28,d094q28,d291q28,d066q28,d279q28,d322q28,d035q28,d136q28,d102\\n'\n",
      "b'q29,d314q29,d113q29,d001q29,d120q29,d133q29,d261q29,d046q29,d062q29,d191q29,d286\\n'\n",
      "b'q32,d090q32,d025q32,d139q32,d067q32,d092q32,d282q32,d140q32,d254q32,d305q32,d141\\n'\n",
      "b'q34,d224q34,d312q34,d075q34,d198q34,d113q34,d221q34,d037q34,d040q34,d232q34,d246\\n'\n",
      "b'q36,d257q36,d321q36,d277q36,d023q36,d247q36,d150q36,d328q36,d265q36,d107q36,d020\\n'\n",
      "b'q37,d169q37,d062q37,d327q37,d141q37,d294q37,d001q37,d002q37,d003q37,d004q37,d005\\n'\n",
      "b'q38,d239q38,d263q38,d056q38,d229q38,d036q38,d294q38,d138q38,d118q38,d258q38,d317\\n'\n",
      "b'q40,d250q40,d283q40,d307q40,d122q40,d042q40,d288q40,d228q40,d046q40,d058q40,d131\\n'\n",
      "b'q41,d174q41,d128q41,d150q41,d268q41,d195q41,d014q41,d209q41,d272q41,d223q41,d330\\n'\n",
      "b'q42,d298q42,d218q42,d125q42,d174q42,d216q42,d224q42,d314q42,d203q42,d208q42,d241\\n'\n",
      "b'q44,d239q44,d029q44,d164q44,d185q44,d246q44,d314q44,d182q44,d059q44,d067q44,d117\\n'\n",
      "b'q45,d105q45,d185q45,d085q45,d126q45,d164q45,d170q45,d188q45,d254q45,d204q45,d100\\n'\n",
      "b'q46,d145q46,d133q46,d013q46,d321q46,d122q46,d121q46,d091q46,d030q46,d081q46,d125\\n'\n"
     ]
    }
   ],
   "source": [
    "for line in smart_open('top-10.txt', 'rb'):\n",
    "    #docDict.append(process(line))  \n",
    "    print(line)"
   ]
  },
  {
   "cell_type": "code",
   "execution_count": null,
   "metadata": {},
   "outputs": [],
   "source": []
  },
  {
   "cell_type": "code",
   "execution_count": null,
   "metadata": {},
   "outputs": [],
   "source": []
  },
  {
   "cell_type": "code",
   "execution_count": null,
   "metadata": {},
   "outputs": [],
   "source": []
  }
 ],
 "metadata": {
  "kernelspec": {
   "display_name": "Python 3",
   "language": "python",
   "name": "python3"
  },
  "language_info": {
   "codemirror_mode": {
    "name": "ipython",
    "version": 3
   },
   "file_extension": ".py",
   "mimetype": "text/x-python",
   "name": "python",
   "nbconvert_exporter": "python",
   "pygments_lexer": "ipython3",
   "version": "3.6.9"
  }
 },
 "nbformat": 4,
 "nbformat_minor": 4
}
